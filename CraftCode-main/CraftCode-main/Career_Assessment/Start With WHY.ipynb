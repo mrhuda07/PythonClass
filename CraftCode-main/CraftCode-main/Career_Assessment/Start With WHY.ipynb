{
 "cells": [
  {
   "cell_type": "markdown",
   "id": "38657659",
   "metadata": {},
   "source": [
    "# Assess Yourself \n",
    "\n",
    "- list steps for creating a career plan \n",
    "- Identify your unique strengths, skills, and talents and what’s important to you\n",
    "- Describe the different elements of self-assessment\n",
    " "
   ]
  },
  {
   "cell_type": "markdown",
   "id": "2289b1f9",
   "metadata": {},
   "source": [
    "# A Quick Introduction \n",
    "\n",
    "- Career Development is an Ongoing process as your priorities and interests shift \n",
    "- Career development is a jungle gym \n",
    "\n",
    "### What are your priorities and interests? \n",
    "\n",
    "###### Assessment 1 Evaluating Interests \n",
    "\n",
    "\n",
    "###### NOTE: \n",
    "- Career development is helpful to revisit when you’re thinking about switching careers or applying your experience to work in a new field, or maybe returning to work \n"
   ]
  },
  {
   "cell_type": "markdown",
   "id": "37088120",
   "metadata": {},
   "source": [
    "# Career Development plan involves three main steps or phases. \n",
    "\n",
    "\n",
    "1. <b>Discover</b>. Get to know yourself, including your motivations, experiences you want, skills to build, and career goals to achieve. Research and explore opportunities and career paths that interest you and that may not have been considered before. \n",
    "\n",
    "2. <b>Plan</b>. Identify a goal and any skills you need to build or to reach that goal. Lay out a plan of how you will achieve that goal. \n",
    "\n",
    "3. <b>Act</b>. Take action on your plan. Identify how to get connected to employers and mentors that can help you. Prepare your resume and social media presence to land that dream job."
   ]
  },
  {
   "cell_type": "markdown",
   "id": "c69db271",
   "metadata": {},
   "source": [
    "# Get to know Yourself\n",
    "\n",
    "What motivates you and what matters in your life? \n",
    "Identify your strengths and opportunities to improve\n",
    "Finding out what you’re most interested in. \n",
    "\n",
    "This is an opportunity to check in and see where you are today. \n",
    "\n",
    "There are many assessment tools that help you identify your own values, skills, and interests. \n",
    "\n",
    "- https://grad.illinois.edu/careers/assess\n",
    "- https://grad.uchicago.edu/wp-content/uploads/2018/03/Identifying-Skills-Interests-and-Values-2.pdf \n",
    "\n",
    "\n",
    "###### Assessment 2 Evaluating Career \n"
   ]
  },
  {
   "cell_type": "markdown",
   "id": "543a051b",
   "metadata": {},
   "source": [
    "# What motivates you? \n",
    "\n",
    "Examples: \n",
    "- Creativity and innovation\n",
    "- Problem-solving \n",
    "- Being an expert \n",
    "\n",
    "Now it’s your turn to identify: \n",
    "- Complete the values and skills assessment worksheet to identify what motivates you \n",
    "- Once you do this, talk this over with friends and family\n",
    "\n",
    "\n",
    "Explore Career Options: \n",
    "\n",
    "- Describe the different job roles \n",
    "- Research potential career options \n",
    "- Identify skills and requirements \n",
    "\n",
    "\n",
    "###### Assessment 3 Career Plan "
   ]
  },
  {
   "cell_type": "markdown",
   "id": "2d1e15ea",
   "metadata": {},
   "source": [
    "# Researching Career Pathways:\n",
    "\n",
    "Perhaps you already have some ideas about roles that interest you. Perhaps you’ve thought about other industries but you’re not sure what the different roles are within that industry. \n",
    "\n",
    "How to research Jobs: \n",
    "- Search job descriptions with keywords related to your interest. \n",
    "- Talk to others who are already in roles you’re interested in.\n",
    "- Attend industry events and meetups \n",
    "- Take people in your network out for coffee or lunch to learn more about other functions, teams, and roels. \n",
    "- Shadow someone doing what you’d like to do in the future. \n",
    "- Look for opportunities to be part of a special project to learn new skills. \n"
   ]
  },
  {
   "cell_type": "markdown",
   "id": "26b905f4",
   "metadata": {},
   "source": [
    "# Labor Market Trends: \n",
    "\n",
    "- Labor market demand for specific skills and roles \n",
    "    - Look for industries that are experiencing the highest growth, and where are there more opportunities?\n",
    "- Think about what companies focus on building\n",
    "    - Getting important skills for building companies \n",
    "        - Salesforce \n",
    "        - Find other job trends https://www.indeed.com/lead/best-jobs-2020?hl=en&co=US\n",
    "- Knowing where the demand for a specific skill can get you a strong position in researching different positions.\n"
   ]
  },
  {
   "cell_type": "markdown",
   "id": "a8a64a8a",
   "metadata": {},
   "source": [
    "# A Day in the life:  \n",
    "- Day to day activities of different roles\n",
    "- What are things you can imagine yourself doing throughout the day?\n",
    "- What types of problems does the role solve? \n",
    "- Is the workday structured with lots of meetings or more self-directed?\n",
    "- Once you’ve identified specific roles that interest you, search online to find more information about a typical day in the life role. \n",
    "- Use linkedin or twitter to find people in your network with that role and ask to interview them. \n"
   ]
  },
  {
   "cell_type": "markdown",
   "id": "9f3a8855",
   "metadata": {},
   "source": [
    "# Conducting Research: \n",
    "\n",
    "- Come up with different tracks that are available for most engineers and courses that you’re willing to offer and make career tracks available\n",
    "\n",
    "###### Assessment 4 Job Seeker Checklist"
   ]
  },
  {
   "cell_type": "code",
   "execution_count": null,
   "id": "3456163b",
   "metadata": {},
   "outputs": [],
   "source": [
    "# Link Socials "
   ]
  }
 ],
 "metadata": {
  "kernelspec": {
   "display_name": "Python 3",
   "language": "python",
   "name": "python3"
  },
  "language_info": {
   "codemirror_mode": {
    "name": "ipython",
    "version": 3
   },
   "file_extension": ".py",
   "mimetype": "text/x-python",
   "name": "python",
   "nbconvert_exporter": "python",
   "pygments_lexer": "ipython3",
   "version": "3.8.8"
  }
 },
 "nbformat": 4,
 "nbformat_minor": 5
}
