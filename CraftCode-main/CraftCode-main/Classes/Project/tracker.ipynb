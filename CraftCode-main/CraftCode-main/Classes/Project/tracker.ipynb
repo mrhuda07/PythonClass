{
 "cells": [
  {
   "cell_type": "code",
   "execution_count": 1,
   "metadata": {},
   "outputs": [],
   "source": [
    "import requests"
   ]
  },
  {
   "cell_type": "code",
   "execution_count": 2,
   "metadata": {},
   "outputs": [
    {
     "name": "stdout",
     "output_type": "stream",
     "text": [
      "{'BTC': {'coin': 'BTC', 'price': 46922.15, 'change_day': -3.8871089882943064, 'change_hour': 0.008738641098678536}, 'ETH': {'coin': 'ETH', 'price': 3775.89, 'change_day': -5.246952305908691, 'change_hour': -0.25333643289622837}, 'XRP': {'coin': 'XRP', 'price': 0.7884, 'change_day': -4.029214850882534, 'change_hour': -0.21516263764080937}, 'LTC': {'coin': 'LTC', 'price': 145.83, 'change_day': -4.8541788999804245, 'change_hour': -0.1437962202136261}, 'BCH': {'coin': 'BCH', 'price': 423.16, 'change_day': -3.999637015358786, 'change_hour': -0.40482018452268176}, 'ADA': {'coin': 'ADA', 'price': 1.227, 'change_day': -5.832693783576351, 'change_hour': -0.24390243902438144}, 'DOT': {'coin': 'DOT', 'price': 26.27, 'change_day': -9.319986192613046, 'change_hour': 0.15249714067860903}, 'LINK': {'coin': 'LINK', 'price': 17.89, 'change_day': -8.631256384065363, 'change_hour': -0.5005561735261393}, 'BNB': {'coin': 'BNB', 'price': 524.03, 'change_day': -5.947915357969738, 'change_hour': 0.04199996181822174}, 'XLM': {'coin': 'XLM', 'price': 0.2537, 'change_day': -4.803001876172621, 'change_hour': -0.23594180102243212}}\n"
     ]
    }
   ],
   "source": [
    "def get_prices():\n",
    "    coins = [\"BTC\", \"ETH\", \"XRP\", \"LTC\", \"BCH\", \"ADA\", \"DOT\", \"LINK\", \"BNB\", \"XLM\"]\n",
    "\n",
    "    crypto_data = requests.get(\n",
    "        \"https://min-api.cryptocompare.com/data/pricemultifull?fsyms={}&tsyms=USD\".format(\",\".join(coins))).json()[\"RAW\"]\n",
    "\n",
    "    data = {}\n",
    "    for i in crypto_data:\n",
    "        data[i] = {\n",
    "            \"coin\": i,\n",
    "            \"price\": crypto_data[i][\"USD\"][\"PRICE\"],\n",
    "            \"change_day\": crypto_data[i][\"USD\"][\"CHANGEPCT24HOUR\"],\n",
    "            \"change_hour\": crypto_data[i][\"USD\"][\"CHANGEPCTHOUR\"]\n",
    "        }\n",
    "\n",
    "    return data\n",
    "\n",
    "\n",
    "if __name__ == \"__main__\":\n",
    "    print(get_prices())"
   ]
  },
  {
   "cell_type": "code",
   "execution_count": 3,
   "metadata": {},
   "outputs": [
    {
     "name": "stdout",
     "output_type": "stream",
     "text": [
      "Collecting telegram\n",
      "  Downloading telegram-0.0.1.tar.gz (879 bytes)\n",
      "Building wheels for collected packages: telegram\n",
      "  Building wheel for telegram (setup.py) ... \u001b[?25ldone\n",
      "\u001b[?25h  Created wheel for telegram: filename=telegram-0.0.1-py3-none-any.whl size=1306 sha256=6a4b13c296fe1f5ab353905351c20e16955a897d11acaddb6926be92215312e8\n",
      "  Stored in directory: /Users/omar/Library/Caches/pip/wheels/a2/9f/b5/650dd4d533f0a17ca30cc11120b176643d27e0e1f5c9876b5b\n",
      "Successfully built telegram\n",
      "Installing collected packages: telegram\n",
      "Successfully installed telegram-0.0.1\n",
      "Note: you may need to restart the kernel to use updated packages.\n"
     ]
    }
   ],
   "source": [
    "pip install telegram"
   ]
  },
  {
   "cell_type": "code",
   "execution_count": 4,
   "metadata": {},
   "outputs": [
    {
     "name": "stdout",
     "output_type": "stream",
     "text": [
      "Collecting python_telegram_bot\n",
      "  Downloading python_telegram_bot-13.9-py3-none-any.whl (496 kB)\n",
      "\u001b[K     |████████████████████████████████| 496 kB 6.6 MB/s \n",
      "\u001b[?25hCollecting cachetools==4.2.2\n",
      "  Downloading cachetools-4.2.2-py3-none-any.whl (11 kB)\n",
      "Requirement already satisfied: certifi in /opt/anaconda3/lib/python3.8/site-packages (from python_telegram_bot) (2020.12.5)\n",
      "Requirement already satisfied: pytz>=2018.6 in /opt/anaconda3/lib/python3.8/site-packages (from python_telegram_bot) (2021.1)\n",
      "Requirement already satisfied: tornado>=6.1 in /opt/anaconda3/lib/python3.8/site-packages (from python_telegram_bot) (6.1)\n",
      "Collecting APScheduler==3.6.3\n",
      "  Downloading APScheduler-3.6.3-py2.py3-none-any.whl (58 kB)\n",
      "\u001b[K     |████████████████████████████████| 58 kB 6.4 MB/s \n",
      "\u001b[?25hCollecting tzlocal>=1.2\n",
      "  Downloading tzlocal-4.1-py3-none-any.whl (19 kB)\n",
      "Requirement already satisfied: setuptools>=0.7 in /opt/anaconda3/lib/python3.8/site-packages (from APScheduler==3.6.3->python_telegram_bot) (52.0.0.post20210125)\n",
      "Requirement already satisfied: six>=1.4.0 in /opt/anaconda3/lib/python3.8/site-packages (from APScheduler==3.6.3->python_telegram_bot) (1.15.0)\n",
      "Collecting backports.zoneinfo\n",
      "  Downloading backports.zoneinfo-0.2.1-cp38-cp38-macosx_10_14_x86_64.whl (35 kB)\n",
      "Collecting pytz-deprecation-shim\n",
      "  Downloading pytz_deprecation_shim-0.1.0.post0-py2.py3-none-any.whl (15 kB)\n",
      "Collecting tzdata\n",
      "  Downloading tzdata-2021.5-py2.py3-none-any.whl (339 kB)\n",
      "\u001b[K     |████████████████████████████████| 339 kB 11.7 MB/s \n",
      "\u001b[?25hInstalling collected packages: tzdata, backports.zoneinfo, pytz-deprecation-shim, tzlocal, cachetools, APScheduler, python-telegram-bot\n",
      "Successfully installed APScheduler-3.6.3 backports.zoneinfo-0.2.1 cachetools-4.2.2 python-telegram-bot-13.9 pytz-deprecation-shim-0.1.0.post0 tzdata-2021.5 tzlocal-4.1\n",
      "Note: you may need to restart the kernel to use updated packages.\n"
     ]
    }
   ],
   "source": [
    "pip install python_telegram_bot"
   ]
  }
 ],
 "metadata": {
  "interpreter": {
   "hash": "40d3a090f54c6569ab1632332b64b2c03c39dcf918b08424e98f38b5ae0af88f"
  },
  "kernelspec": {
   "display_name": "Python 3.8.8 64-bit ('base': conda)",
   "name": "python3"
  },
  "language_info": {
   "codemirror_mode": {
    "name": "ipython",
    "version": 3
   },
   "file_extension": ".py",
   "mimetype": "text/x-python",
   "name": "python",
   "nbconvert_exporter": "python",
   "pygments_lexer": "ipython3",
   "version": "3.8.8"
  },
  "orig_nbformat": 4
 },
 "nbformat": 4,
 "nbformat_minor": 2
}
