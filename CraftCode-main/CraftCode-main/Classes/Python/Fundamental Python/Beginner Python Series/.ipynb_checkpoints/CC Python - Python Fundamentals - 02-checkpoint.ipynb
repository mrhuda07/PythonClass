{
 "cells": [
  {
   "cell_type": "markdown",
   "id": "c0f5beeb",
   "metadata": {},
   "source": [
    "<img src=\"editedLogo.png\" width=\"400\" height=\"200\" align=\"center\"/>"
   ]
  },
  {
   "cell_type": "markdown",
   "id": "a75fe9cd",
   "metadata": {},
   "source": [
    "<h1 align=center><font size = 5>Agenda</font></h1>"
   ]
  },
  {
   "cell_type": "markdown",
   "id": "6886fcc8",
   "metadata": {},
   "source": [
    "### \n",
    "<div class=\"alert alert-block alert-info\" style=\"margin-top: 20px\">\n",
    "\n",
    "1. [Review: What is Python?](#0)<br>\n",
    "2. [Building With Python](#2)<br> \n",
    "3. [Setting up Your Environment](#4)<br>     \n",
    "    * Jupyter Notebook\n",
    "    * Replit\n",
    "    * Google Forms \n",
    "</div>\n",
    "<hr>"
   ]
  },
  {
   "cell_type": "markdown",
   "id": "01c9b3d8",
   "metadata": {},
   "source": [
    "<h2>What is Python?</h2><a id=\"0\"></a>\n",
    "\n",
    "\n",
    "brief history \n",
    "- created in 1990 by guido van rossum \n",
    "- python 3 released in 2008\n",
    "- easy to use language\n",
    "- readablity of code\n",
    "- python allowing users to apply python to a wide variety of tasks \n",
    "- https://docs.python.org/3/ "
   ]
  },
  {
   "cell_type": "markdown",
   "id": "6ca67d02",
   "metadata": {},
   "source": [
    "<h2>Building with Python</h2><a id=\"0\"></a>\n",
    "\n",
    "\n",
    "This course first focuses on base python\n",
    "writing small scripts and building algorithms \n",
    "\n",
    "- automate tasks \n",
    "    - seraaching for files \n",
    "    - scraping information from a website \n",
    "    - reading and editing excel files \n",
    "    - work with pdfs \n",
    "    - automate emails and text messages \n",
    "    - fill out forms \n",
    "    \n",
    "- data science \n",
    "    - analuze data files \n",
    "    - create visualizaitons \n",
    "    - perform machine learning tasks \n",
    "    - create and run predictive algorithms \n",
    "\n",
    "- web sites \n",
    "    - Use web frameworks such as Django and flask to handle the backend of a website and user data \n",
    "    - create interactive dashboards for users \n",
    "- blockchain \n",
    "\n",
    "- AI \n",
    "\n",
    "\n"
   ]
  },
  {
   "cell_type": "code",
   "execution_count": null,
   "id": "a2fcc1fe",
   "metadata": {},
   "outputs": [],
   "source": []
  }
 ],
 "metadata": {
  "kernelspec": {
   "display_name": "Python 3",
   "language": "python",
   "name": "python3"
  },
  "language_info": {
   "codemirror_mode": {
    "name": "ipython",
    "version": 3
   },
   "file_extension": ".py",
   "mimetype": "text/x-python",
   "name": "python",
   "nbconvert_exporter": "python",
   "pygments_lexer": "ipython3",
   "version": "3.8.8"
  }
 },
 "nbformat": 4,
 "nbformat_minor": 5
}
