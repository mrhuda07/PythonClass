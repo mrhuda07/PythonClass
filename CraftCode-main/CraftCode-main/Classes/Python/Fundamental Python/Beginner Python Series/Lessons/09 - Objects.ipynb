{
 "cells": [
  {
   "cell_type": "markdown",
   "metadata": {},
   "source": [
    "\n",
    "![title](Figures/editedLogo.png)\n"
   ]
  },
  {
   "cell_type": "markdown",
   "metadata": {},
   "source": [
    "<h1 align=Center><font size = 6><b>Agenda</b></font></h1>\n",
    "\n",
    "<b> Objects  </b>\n",
    "\n",
    "1. Objects\n",
    "2. What is A Class\n",
    "3. Set Class \n",
    "4. Clothing Class\n",
    "5. [Quiz 13: Objects](https://forms.gle/LkEQLTnY5qMkdsz38) "
   ]
  },
  {
   "cell_type": "markdown",
   "metadata": {},
   "source": [
    "# Objects"
   ]
  },
  {
   "cell_type": "markdown",
   "metadata": {},
   "source": [
    "Allows programmers to organize their code into classes that hold methods and other attributes. \n",
    "\n",
    "They encapsulate variables and functions into a single grouping. \n",
    "\n",
    "We can later access this grouping's contents in our code as needed.\n",
    "\n",
    "We use classes when we wish to bunch our methods together.\n",
    "\n",
    "Let's create an object template."
   ]
  },
  {
   "cell_type": "markdown",
   "metadata": {},
   "source": [
    "# What Is A Class?\n",
    "\n",
    "    class NameOfClass(): # camelCasing\n",
    "    \n",
    "        def __init__(self,param1,param2)\n",
    "            self.param1 = param1\n",
    "            self.param2 = param2 \n",
    "\n",
    "        def some_method(self): \n",
    "            # Perform some action\n",
    "            print(self.param1)\n",
    "\n",
    "\n",
    "Key Items:\n",
    "- class  # The key word to creating a class\n",
    "- __ init __( ) # necessary to assign values in a class\n",
    "- Self # references the class itself so when you're assigning values all values will be unique for the instance being created"
   ]
  },
  {
   "cell_type": "markdown",
   "metadata": {},
   "source": [
    "# Set Class Example"
   ]
  },
  {
   "cell_type": "code",
   "execution_count": null,
   "metadata": {},
   "outputs": [],
   "source": [
    "myset = set() # set is a class that is pre installed in python"
   ]
  },
  {
   "cell_type": "markdown",
   "metadata": {},
   "source": [
    "# Set Class Methods\n",
    "<img src=\"Figures/set.display.methods.png\" width=\"200\" height=\"200\" align=\"center\"/>\n",
    "\n",
    "\n",
    "We can see that there are accessible methods that Set has in its class"
   ]
  },
  {
   "cell_type": "markdown",
   "metadata": {},
   "source": [
    "# Clothing Class"
   ]
  },
  {
   "cell_type": "code",
   "execution_count": 12,
   "metadata": {},
   "outputs": [],
   "source": [
    "# so now that we created two instances, let's create a method to set the prices: \n",
    "class Clothing(object): \n",
    "    def __init__(self, type, color, size, price = None):\n",
    "        self.type = type\n",
    "        self.color = color\n",
    "        self.size = size \n",
    "        self.price = price \n",
    "\n",
    "    # method to set the price of clothing\n",
    "    def set_price(self,price):\n",
    "        \"\"\"Set the price of an item of clothing\"\"\"\n",
    "        self.price = price\n",
    "        print(\"Setting the price of the \", self.color, self.type, \"to\", price)\n",
    "\n",
    "    # method to get the price of clothing\n",
    "\n",
    "    def get_price(self):\n",
    "        \"\"\"Get the price of an item of clothing, if price is set.\"\"\"\n",
    "\n",
    "        try: \n",
    "            print(\"the\", self.color, self.type, \"costs\", self.price)\n",
    "        except: \n",
    "            print(\"The price of the\", self.color, self.type, \"hasn't been set\")\n",
    "\n",
    "\n",
    "    # method to create a promotion for clothing \n",
    "\n",
    "    def promote(self,percentage): \n",
    "        \"\"\"Lower the price, if initial price is set.\"\"\"\n",
    "\n",
    "        try: \n",
    "            self.price = self.price * (1 - percentage /100)\n",
    "            print(\"The price of\",self.color,self.type,\"has been reduced to\", self.price)\n",
    "        except:\n",
    "            print(\"Oops. Set an initial price first!\")\n",
    "\n",
    "bluejeans = Clothing(\"jeans\",\"blue\", 12)\n",
    "redtshirt = Clothing(\"t-shirt\", \"red\", 10, 10)"
   ]
  },
  {
   "cell_type": "code",
   "execution_count": 13,
   "metadata": {},
   "outputs": [
    {
     "name": "stdout",
     "output_type": "stream",
     "text": [
      "Blue Jeans --------------------\n",
      "Oops. Set an initial price first!\n",
      "Setting the price of the  blue jeans to 30\n",
      "the blue jeans costs 30\n",
      "\n",
      "T-Shirt --------------------\n",
      "the red t-shirt costs 10\n",
      "The price of red t-shirt has been reduced to 8.0\n"
     ]
    }
   ],
   "source": [
    "# Now let's call our class methods for our jeans and shirt\n",
    "\n",
    "print(\"Blue Jeans --------------------\")\n",
    "bluejeans.promote(20)\n",
    "bluejeans.set_price(30)\n",
    "bluejeans.get_price()\n",
    "\n",
    "print()\n",
    "\n",
    "print(\"T-Shirt --------------------\")\n",
    "redtshirt.get_price()\n",
    "redtshirt.promote(20)\n"
   ]
  },
  {
   "cell_type": "code",
   "execution_count": 17,
   "metadata": {},
   "outputs": [],
   "source": [
    "# Add more routines as you see fit\n",
    "# if you want to delete an attribute then you can use\n",
    "\n",
    "del redtshirt.price\n",
    "\n",
    "# when you call the methods of the redtshirt, you will notice that the price attribute will be gone \n",
    "\n",
    "# if you want to delete the object entirely, then you do... \n",
    "\n",
    "del redtshirt\n",
    "\n",
    "redtshirt\n",
    "\n",
    "# now redtshirt won't be defined "
   ]
  },
  {
   "cell_type": "markdown",
   "metadata": {},
   "source": [
    "# Quiz 13\n",
    "- [Quiz 13: Objects](https://forms.gle/LkEQLTnY5qMkdsz38) \n"
   ]
  }
 ],
 "metadata": {
  "interpreter": {
   "hash": "a6065f6affd4c30f8649d8f0a2f8549f44f9aae395c1351a92b290b79a004109"
  },
  "kernelspec": {
   "display_name": "Python 3.8.8 64-bit ('base': conda)",
   "language": "python",
   "name": "python3"
  },
  "language_info": {
   "codemirror_mode": {
    "name": "ipython",
    "version": 3
   },
   "file_extension": ".py",
   "mimetype": "text/x-python",
   "name": "python",
   "nbconvert_exporter": "python",
   "pygments_lexer": "ipython3",
   "version": "3.8.8"
  },
  "orig_nbformat": 4
 },
 "nbformat": 4,
 "nbformat_minor": 2
}
