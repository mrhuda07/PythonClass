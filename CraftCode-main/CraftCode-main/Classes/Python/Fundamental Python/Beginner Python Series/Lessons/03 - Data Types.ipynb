{
 "cells": [
  {
   "cell_type": "markdown",
   "id": "c0f5beeb",
   "metadata": {},
   "source": [
    "<img src=\"Figures/editedLogo.png\" width=\"400\" height=\"200\" align=\"center\"/>"
   ]
  },
  {
   "cell_type": "markdown",
   "id": "a75fe9cd",
   "metadata": {},
   "source": [
    "<h1 align=center><font size = 4><b>Agenda</b></font></h1>"
   ]
  },
  {
   "cell_type": "markdown",
   "id": "6886fcc8",
   "metadata": {},
   "source": [
    "### \n",
    "<div class=\"alert alert-block alert-info\" style=\"margin-top: 20px\">\n",
    "\n",
    "1. Code Comments \n",
    "2. Intro to Data Types<br>\n",
    "    - Numeric <br>\n",
    "    - String <br>\n",
    "    - Boolean<br>\n",
    "    - List <br>\n",
    "    - dict<br>\n",
    "3. Basic Number Operations \n",
    "4. Basic String Operations\n",
    "5. Exercises: Strings and Numbers (replit) - Go over PEMDAS \n",
    "6. [Quiz 3: Data Types](https://forms.gle/mZpFVodQcrq2pmAw5)  \n",
    "</div>\n",
    "<hr>"
   ]
  },
  {
   "cell_type": "markdown",
   "metadata": {},
   "source": [
    "## <b>Code Comments</b>\n"
   ]
  },
  {
   "cell_type": "markdown",
   "metadata": {},
   "source": [
    "Two types of comments: \n",
    "- Single Line\n",
    "- Multiline\n",
    "    "
   ]
  },
  {
   "cell_type": "markdown",
   "metadata": {},
   "source": [
    "#### <b>Single Line</b>"
   ]
  },
  {
   "cell_type": "code",
   "execution_count": 1,
   "metadata": {},
   "outputs": [
    {
     "name": "stdout",
     "output_type": "stream",
     "text": [
      "hello\n"
     ]
    }
   ],
   "source": [
    "# This is a single comment "
   ]
  },
  {
   "cell_type": "markdown",
   "metadata": {},
   "source": [
    "Sometimes programmers using multiple # symbols to make multiline comments like this"
   ]
  },
  {
   "cell_type": "code",
   "execution_count": 5,
   "metadata": {},
   "outputs": [],
   "source": [
    "# This is a comment \n",
    "# that takes up\n",
    "# a few lines"
   ]
  },
  {
   "cell_type": "markdown",
   "metadata": {},
   "source": [
    "#### <b>Multi Line</b>"
   ]
  },
  {
   "cell_type": "code",
   "execution_count": 1,
   "metadata": {},
   "outputs": [
    {
     "data": {
      "text/plain": [
       "' This is a multiline comment... \\n    The only precaution is that this will\\n    also print out as output if ran.. e.g \\n'"
      ]
     },
     "execution_count": 1,
     "metadata": {},
     "output_type": "execute_result"
    }
   ],
   "source": [
    "\"\"\" This is a multiline comment... \n",
    "    The only precaution is that this will\n",
    "    also print out as output if ran.. e.g \n",
    "\"\"\""
   ]
  },
  {
   "cell_type": "markdown",
   "metadata": {},
   "source": [
    "# <b>Introduction To Data Types</b>\n"
   ]
  },
  {
   "cell_type": "markdown",
   "metadata": {},
   "source": [
    "<img src=\"Figures/DTypesTable.png\" width=\"400\" height=\"200\" align=\"center\"/>"
   ]
  },
  {
   "cell_type": "markdown",
   "metadata": {},
   "source": [
    "- Numeric <br>\n",
    "\n",
    "- String <br>\n",
    "\n",
    "- Boolean<br>\n",
    "\n",
    "- List <br>\n",
    "\n",
    "- dict<br>"
   ]
  },
  {
   "cell_type": "markdown",
   "metadata": {},
   "source": [
    "## <b>Checking the type of a Data Type</b>"
   ]
  },
  {
   "cell_type": "code",
   "execution_count": 11,
   "metadata": {},
   "outputs": [
    {
     "name": "stdout",
     "output_type": "stream",
     "text": [
      "<class 'int'>\n",
      "<class 'float'>\n",
      "<class 'str'>\n",
      "<class 'dict'>\n",
      "<class 'tuple'>\n",
      "<class 'set'>\n",
      "<class 'bool'>\n"
     ]
    }
   ],
   "source": [
    "intType = type(1)\n",
    "floatType = type(1.0)\n",
    "stringType = type(\"a string\")\n",
    "dictType = type ({\"key\":\"value\"})\n",
    "tupleType = type((1,2))\n",
    "setType = type({\"a\",\"b\"})\n",
    "boolType = type(True)\n",
    "\n",
    "print(intType)\n",
    "print(floatType)\n",
    "print(stringType)\n",
    "print(dictType)\n",
    "print(tupleType)\n",
    "print(setType)\n",
    "print(boolType)"
   ]
  },
  {
   "cell_type": "markdown",
   "metadata": {},
   "source": [
    "## <b>Basic Number Operations</b>"
   ]
  },
  {
   "cell_type": "code",
   "execution_count": 2,
   "metadata": {},
   "outputs": [
    {
     "name": "stdout",
     "output_type": "stream",
     "text": [
      "x is  8\n",
      "y is  -2\n",
      "z is  15\n",
      "a is  0.6\n"
     ]
    }
   ],
   "source": [
    "x = 3 + 5\n",
    "y = 3 - 5\n",
    "z = 3 * 5\n",
    "a = 3 / 5\n",
    "\n",
    "print(\"x is \",x)\n",
    "print(\"y is \",y)\n",
    "print(\"z is \",z)\n",
    "print(\"a is \",a)"
   ]
  },
  {
   "cell_type": "code",
   "execution_count": 14,
   "metadata": {},
   "outputs": [
    {
     "name": "stdout",
     "output_type": "stream",
     "text": [
      "module returns 3\n"
     ]
    }
   ],
   "source": [
    "# Modulo \n",
    "\n",
    "mod = 3 % 5 \n",
    "print(\"module returns\", mod)"
   ]
  },
  {
   "cell_type": "code",
   "execution_count": 15,
   "metadata": {},
   "outputs": [
    {
     "name": "stdout",
     "output_type": "stream",
     "text": [
      "Remainder returns 0\n"
     ]
    }
   ],
   "source": [
    "# Remainder \n",
    "\n",
    "evenNumberRemainder = 20 % 2\n",
    "print(\"Remainder returns\", evenNumberRemainder)"
   ]
  },
  {
   "cell_type": "code",
   "execution_count": 17,
   "metadata": {},
   "outputs": [
    {
     "name": "stdout",
     "output_type": "stream",
     "text": [
      "power returns 8\n"
     ]
    }
   ],
   "source": [
    "# power \n",
    "\n",
    "power = 2 ** 3\n",
    "print(\"power returns\", power)"
   ]
  },
  {
   "cell_type": "markdown",
   "metadata": {},
   "source": [
    "## <b>Basic String Operations</b>"
   ]
  },
  {
   "cell_type": "code",
   "execution_count": 63,
   "metadata": {},
   "outputs": [],
   "source": [
    "# Strings are sequences of characters that are referred to as strings. \n",
    "# Can be any length and can include any character \n",
    "# Let's dive into an error with strings first before understanding how to construct one"
   ]
  },
  {
   "cell_type": "code",
   "execution_count": 65,
   "metadata": {},
   "outputs": [
    {
     "name": "stdout",
     "output_type": "stream",
     "text": [
      "Michael Scott once said, \"I'm not superstitious, but I'm a little stitious\n"
     ]
    }
   ],
   "source": [
    "# This is a string... one that has issues but we'll get to that  \n",
    "# txt = \"Michael Scott once said, \"I'm not superstitious, but i'm a little stitious\"\n",
    "\n",
    "# strings start and end with quotation marks. \n",
    "# The string above is broken... can you guess why? \n",
    "# there are other quotation marks within, that are necessary for the contents of the string \n",
    "# to fix that, we use something called escape characters usually signified using backslashes \\ \n",
    "# taking the string from above now \n",
    "\n",
    "txt = \"Michael Scott once said, \\\"I'm not superstitious, but I'm a little stitious\"\n",
    "print(txt)"
   ]
  },
  {
   "cell_type": "markdown",
   "metadata": {},
   "source": [
    "### <b>Indexing and Slicing</b>  "
   ]
  },
  {
   "cell_type": "code",
   "execution_count": 71,
   "metadata": {},
   "outputs": [
    {
     "data": {
      "text/plain": [
       "'Dne'"
      ]
     },
     "execution_count": 71,
     "metadata": {},
     "output_type": "execute_result"
    }
   ],
   "source": [
    "office = \"Dunder Mifflin\"\n",
    "\n",
    "# office[-1]\n",
    "# office[0]\n",
    "# office[1]\n",
    "# office[2]\n",
    "# office[3]\n",
    "# office[4]\n",
    "# office [0:6]\n",
    "office [0:6:2]"
   ]
  },
  {
   "cell_type": "markdown",
   "metadata": {},
   "source": [
    "### <b>Iterating a string</b>"
   ]
  },
  {
   "cell_type": "code",
   "execution_count": null,
   "metadata": {},
   "outputs": [],
   "source": [
    " \n",
    "TonyStark = \"Dude, you’re embarrassing me in front of the wizards. — Tony Stark/Iron Man, Avengers: Infinity War (2018)\"\n",
    "# print(TonyStark)\n",
    "\n",
    "for l in TonyStark:\n",
    "    print(l)"
   ]
  },
  {
   "cell_type": "markdown",
   "metadata": {},
   "source": [
    "### <b>Getting String Length</b> "
   ]
  },
  {
   "cell_type": "code",
   "execution_count": 47,
   "metadata": {},
   "outputs": [
    {
     "name": "stdout",
     "output_type": "stream",
     "text": [
      "this long word has 45 letters...\n"
     ]
    }
   ],
   "source": [
    "veryLongWord = \"pneumonoultramicroscopicsilicovolcanoconiosis\" # Guess how many letters are in here? \n",
    "\n",
    "# Let's use Python \n",
    "\n",
    "print(\"this long word has\" , len(veryLongWord), \"letters...\")"
   ]
  },
  {
   "cell_type": "markdown",
   "metadata": {},
   "source": [
    "### <b>String Concatenation</b>"
   ]
  },
  {
   "cell_type": "code",
   "execution_count": 52,
   "metadata": {},
   "outputs": [
    {
     "name": "stdout",
     "output_type": "stream",
     "text": [
      "“There is only one thing that makes a dream impossible to achieve: the fear of failure.\n"
     ]
    }
   ],
   "source": [
    "part1 = \"“There is only one thing that makes a dream impossible to achieve\"\n",
    "part2 = \": the fear of failure.\"\n",
    "\n",
    "quote = part1 + part2\n",
    "\n",
    "print(quote)"
   ]
  },
  {
   "cell_type": "markdown",
   "metadata": {},
   "source": [
    "### <b> String Method: .lower()</b>"
   ]
  },
  {
   "cell_type": "code",
   "execution_count": null,
   "metadata": {},
   "outputs": [],
   "source": [
    "\n",
    "allcaps = \"THIS IS A SENTENCE WRITTEN IN ALL CAPS.\"\n",
    "\n",
    "print(allcaps.lower())"
   ]
  },
  {
   "cell_type": "markdown",
   "metadata": {},
   "source": [
    "### <b>String Method: Split()</b>"
   ]
  },
  {
   "cell_type": "code",
   "execution_count": 57,
   "metadata": {},
   "outputs": [
    {
     "name": "stdout",
     "output_type": "stream",
     "text": [
      "['Dedication', 'makes', 'dreams', 'come', 'true.']\n",
      "['D', 'dication mak', 's dr', 'ams com', ' tru', '.']\n"
     ]
    }
   ],
   "source": [
    "stringSplit = \"Dedication makes dreams come true.\"\n",
    "\n",
    "print(stringSplit.split())\n",
    "print(stringSplit.split('e'))"
   ]
  },
  {
   "cell_type": "markdown",
   "metadata": {},
   "source": [
    "### <b>String Method: replace()</b>"
   ]
  },
  {
   "cell_type": "code",
   "execution_count": 58,
   "metadata": {},
   "outputs": [
    {
     "name": "stdout",
     "output_type": "stream",
     "text": [
      "When I have the chance to guard Michael Jordan, I want to guard him. I want him. It’s the ultimate challenge.\n"
     ]
    }
   ],
   "source": [
    "stringToReplace = \"When I have the chance to guard michael Jordan, I want to guard him. I want him. It’s the ultimate challenge.\"\n",
    "print(stringToReplace.replace('michael','Michael'))"
   ]
  },
  {
   "cell_type": "markdown",
   "metadata": {},
   "source": [
    "### <b>String Methods: join()</b>"
   ]
  },
  {
   "cell_type": "code",
   "execution_count": 60,
   "metadata": {},
   "outputs": [
    {
     "name": "stdout",
     "output_type": "stream",
     "text": [
      "When|I|have|the|chance|to|guard|michael|Jordan,|I|want|to|guard|him.|I|want|him.|It’s|the|ultimate|challenge.\n"
     ]
    }
   ],
   "source": [
    "stringToSplit = \"When I have the chance to guard michael Jordan, I want to guard him. I want him. It’s the ultimate challenge.\"\n",
    "splitString = stringToSplit.split()\n",
    "print('|'.join(splitString))"
   ]
  },
  {
   "cell_type": "markdown",
   "metadata": {},
   "source": [
    "## <b>Quiz 3: Data Types</b>\n",
    "- [Quiz 3: Data Types](https://forms.gle/mZpFVodQcrq2pmAw5)  "
   ]
  }
 ],
 "metadata": {
  "interpreter": {
   "hash": "40d3a090f54c6569ab1632332b64b2c03c39dcf918b08424e98f38b5ae0af88f"
  },
  "kernelspec": {
   "display_name": "Python 3.8.8 64-bit ('base': conda)",
   "name": "python3"
  },
  "language_info": {
   "codemirror_mode": {
    "name": "ipython",
    "version": 3
   },
   "file_extension": ".py",
   "mimetype": "text/x-python",
   "name": "python",
   "nbconvert_exporter": "python",
   "pygments_lexer": "ipython3",
   "version": "3.9.7"
  }
 },
 "nbformat": 4,
 "nbformat_minor": 5
}
