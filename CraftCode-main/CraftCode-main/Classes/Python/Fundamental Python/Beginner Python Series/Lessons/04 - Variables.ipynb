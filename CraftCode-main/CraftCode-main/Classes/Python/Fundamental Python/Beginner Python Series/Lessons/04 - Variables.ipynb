{
 "cells": [
  {
   "cell_type": "markdown",
   "metadata": {},
   "source": [
    "<img src=\"Figures/editedLogo.png\" width=\"400\" height=\"200\" align=\"center\"/>"
   ]
  },
  {
   "cell_type": "markdown",
   "metadata": {},
   "source": [
    "<h1 align=Center><font size = 6><b>Agenda</b></font></h1>\n",
    "\n",
    "<div class=\"alert alert-block alert-info\" style=\"margin-top: 20px\">\n",
    "\n",
    "1. Intro to Variables \n",
    "2. Exercise<br>\n",
    "3. Basic Number Operations\n",
    "4. [Quiz 4: Variables](https://forms.gle/WcjFrHS1xmZhFeUb7)  \n",
    "</div>\n",
    "<hr>"
   ]
  },
  {
   "cell_type": "markdown",
   "metadata": {},
   "source": [
    "## Intro to Variables \n",
    "\n",
    "\n",
    "Variables are names where data types are stored to acces them much easier later on in our code. \n",
    "\n",
    "Example: \n",
    "\n",
    "        fruits = 2 \n",
    "\n",
    "Rules: \n",
    "\n",
    "        Names cannot start with numbers \n",
    "        No spaces, use _ instead \n",
    "        Can't use any special symbols in the code \n",
    "        \n",
    "\n",
    "Best practices:\n",
    "    \n",
    "        Use all lower case (pep8 reference)\n",
    "        avoid words that have datatype names in them \n",
    "\n",
    "Concept: \n",
    "\n",
    "        Dynamic tpyeing which means you can reassgin variables to different data types \n",
    "\n",
    "Example: \n",
    "    \n",
    "        fruits = 2 \n",
    "        fruits = [\"Apple\",\"Banana\"]\n",
    "\n",
    " Pros of Dynamic Typing: \n",
    "        \n",
    "        easy to work with \n",
    "        faster development time "
   ]
  },
  {
   "cell_type": "code",
   "execution_count": 17,
   "metadata": {},
   "outputs": [
    {
     "name": "stdout",
     "output_type": "stream",
     "text": [
      "fkj\n"
     ]
    }
   ],
   "source": [
    "# We can start with a simple variable named \"x\" for now... \n",
    "\n",
    "x = \"\"\n",
    "\n",
    "# now remember the string lecture? Let's set this variable equal to a name \n",
    "\n",
    "x = \"fkj\"\n",
    "\n",
    "# printing the name \n",
    "\n",
    "print(x)"
   ]
  },
  {
   "cell_type": "markdown",
   "metadata": {},
   "source": [
    "#### We can reassign x to any value (this concept is known as dynamic typing)"
   ]
  },
  {
   "cell_type": "code",
   "execution_count": 5,
   "metadata": {},
   "outputs": [
    {
     "name": "stdout",
     "output_type": "stream",
     "text": [
      "5\n"
     ]
    }
   ],
   "source": [
    "# X to an integer\n",
    "x = 5\n",
    "\n",
    "print(x)"
   ]
  },
  {
   "cell_type": "code",
   "execution_count": 19,
   "metadata": {},
   "outputs": [
    {
     "name": "stdout",
     "output_type": "stream",
     "text": [
      "Tom Cruise\n"
     ]
    }
   ],
   "source": [
    "# X to String\n",
    "x = \"Tom Cruise\"\n",
    "print(x)"
   ]
  },
  {
   "cell_type": "code",
   "execution_count": 13,
   "metadata": {},
   "outputs": [
    {
     "name": "stdout",
     "output_type": "stream",
     "text": [
      "21.6\n"
     ]
    }
   ],
   "source": [
    "# x to float\n",
    "\n",
    "x = 43.2 / 2\n",
    "print(x)"
   ]
  },
  {
   "cell_type": "code",
   "execution_count": 14,
   "metadata": {},
   "outputs": [
    {
     "name": "stdout",
     "output_type": "stream",
     "text": [
      "{'instrument': 'Saxophone'}\n"
     ]
    }
   ],
   "source": [
    "# X to dictionary\n",
    "\n",
    "x = {\"instrument\":\"Saxophone\"}\n",
    "print(x)"
   ]
  },
  {
   "cell_type": "code",
   "execution_count": 18,
   "metadata": {},
   "outputs": [
    {
     "name": "stdout",
     "output_type": "stream",
     "text": [
      "('tuple', 2, 1)\n"
     ]
    }
   ],
   "source": [
    "# X to Tuple\n",
    "\n",
    "x = (\"tuple\",2,1)\n",
    "print(x)"
   ]
  },
  {
   "cell_type": "markdown",
   "metadata": {},
   "source": [
    "#### Exercise: Create a program for a recipe that will have many different variables for ingredients \n",
    "\n",
    "e.g. For example: Let's create an omlette... \n",
    "\n",
    "We will need eggs,veggies, salt... we can combine all of these together. \n",
    "\n",
    "Let's do it! "
   ]
  },
  {
   "cell_type": "markdown",
   "metadata": {},
   "source": [
    "## <b>Quiz 4: Variables</b>\n",
    "- [Quiz 4: Variables](forms.gle/WcjFrHS1xmZhFeUb7)  "
   ]
  }
 ],
 "metadata": {
  "interpreter": {
   "hash": "a6065f6affd4c30f8649d8f0a2f8549f44f9aae395c1351a92b290b79a004109"
  },
  "kernelspec": {
   "display_name": "Python 3.8.8 64-bit ('base': conda)",
   "name": "python3"
  },
  "language_info": {
   "codemirror_mode": {
    "name": "ipython",
    "version": 3
   },
   "file_extension": ".py",
   "mimetype": "text/x-python",
   "name": "python",
   "nbconvert_exporter": "python",
   "pygments_lexer": "ipython3",
   "version": "3.8.8"
  },
  "orig_nbformat": 4
 },
 "nbformat": 4,
 "nbformat_minor": 2
}
