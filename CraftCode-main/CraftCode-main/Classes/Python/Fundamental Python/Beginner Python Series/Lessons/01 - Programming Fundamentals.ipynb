{
 "cells": [
  {
   "cell_type": "markdown",
   "id": "ec46c10b",
   "metadata": {},
   "source": [
    "<img src=\"Figures/editedLogo.png\" width=\"400\" height=\"200\" align=\"center\"/>\n",
    "\n",
    "<h1 align=center><font size = 5>Agenda</font></h1>"
   ]
  },
  {
   "cell_type": "markdown",
   "id": "f046950d",
   "metadata": {},
   "source": [
    "### \n",
    "<div class=\"alert alert-block alert-info\" style=\"margin-top: 20px\">\n",
    "\n",
    "1. [What is programming?](#0)<br>\n",
    "2. [What are Programming Languages?](#2)<br> \n",
    "3. [Quiz 1: Programming and Programming Languages ](#4)<br>     \n",
    "4. [Writing Psuedocode](#6)<br> \n",
    "5. [Exercise 1: Psuedocode](#8)<br> \n",
    "6. [Designing and Debugging Programs](#10)<br>    \n",
    "7. [Quiz 2: Programming Fundamentals](#12)<br> \n",
    "</div>\n",
    "<hr>"
   ]
  },
  {
   "cell_type": "markdown",
   "id": "e83c86cc",
   "metadata": {},
   "source": [
    "# What Is Programming?\n",
    "\n",
    "The first computer language has come a long way, from 1830. Starting with Ada Lovelace and her analytical engine up to the quantum computing. Programming languages solve a myriad of problems and are applied to virtually all industries. This means that learning a programming language can likely boost your income in virtually any industry. \n"
   ]
  },
  {
   "cell_type": "markdown",
   "id": "11473c20",
   "metadata": {},
   "source": [
    "# What Are Programming Languages?\n",
    "\n",
    "In order for our machines to do the work they're designed to do, we must use a programming language to interact with these machines. \n",
    "\n",
    "There have been different programming languages that have been used for many different applications. Here's a timeline of languages:\n",
    "\n",
    "\n",
    "<img src=\"Figures/TimelineOfProgrammingLanguages.png\" width=\"900\" height=\"500\" align=\"center\"/>\n",
    "\n",
    "\n",
    "### There are five types of programming languages: \n",
    "- Procedural \n",
    "    - Uses multiple variables \n",
    "    - heavy loops\n",
    "    - Example: printing out information\n",
    "    - Fortran, Cobol, ALGOL, BASIC, C, and Pascal \n",
    "    - Common Uses: Script and software programmers to calculate and display a desired output \n",
    "- Functional \n",
    "    - Uses stored data and favors recursion\n",
    "    - further from the machine and decoded into machine language \n",
    "    - abstract and focused on return values of functions\n",
    "    - Haskell, Scala, Lisp\n",
    "    - Common Uses: handle intense mathematical computation \n",
    "- Scripting \n",
    "    - Executes tasks within a special run-time environment (interpreter) \n",
    "    - short, fast, and interpreted from source code or byte code\n",
    "    - PHP, Python, Javascript\n",
    "    - Common Uses: automation, short scripts, create and manage content, backend programming \n",
    "- Logic\n",
    "    - Makes declarative statements that guide computer to completing a task \n",
    "    - Common uses: Natural Language processing and other AI programs (inference engine) \n",
    "- Object-Oriented Programming \n",
    "    - a style of programming characterized by the identification of classes ob objects closely linked with the methods (functions) with which they are associated. "
   ]
  },
  {
   "cell_type": "markdown",
   "id": "7f6a16bf",
   "metadata": {},
   "source": [
    "###### Quiz 1: Programming and Programming Languages "
   ]
  },
  {
   "cell_type": "markdown",
   "id": "514cb511",
   "metadata": {},
   "source": [
    "<h2>Writing Psuedocode</h2><a id=\"0\"></a>"
   ]
  },
  {
   "cell_type": "markdown",
   "id": "e881dd3d",
   "metadata": {},
   "source": [
    "- \"if you fail to plan, you plan to fail\" \n",
    "\n",
    "What is pseudocode? \n",
    "\n",
    "Let's say you wanted to plan a weekend trip. You decide that you want to go hiking but there are a few things you need to consider before taking that hike. Do you risk it all and go with the flow or do you try to plan? \n",
    "\n",
    "What are some things you need to plan for?\n",
    "\n",
    "- Weather conditions \n",
    "- Traffic\n",
    "- When to leave \n",
    "- People going \n",
    "- How long you're gonna be there for \n",
    "- etc.\n",
    "\n",
    "This concept of planning is similar to psuedocode, \n",
    "you're planning what you're going to do before your hike. "
   ]
  },
  {
   "cell_type": "markdown",
   "id": "cbbf1d0d",
   "metadata": {},
   "source": [
    "###### Exercise: Psuedocode example (board game or something else) \n",
    "\n",
    "- Let's plan a day to fly somewhere and stay for a weekend. "
   ]
  },
  {
   "cell_type": "markdown",
   "id": "8a0b7223",
   "metadata": {},
   "source": [
    "Write in plain english the steps needed to complete these tasks: \n",
    "\n",
    "* Task 1: Write a plan to convert 73 degrees fahrenheit to celsius\n",
    "* Task 2: Write a program that asks a user for a tempurature in fahrenheit and outputs to celsius\n",
    "* Task 3: write a plan for watering your plants. If your plant is dry, add water, if not dry put in sun.\n",
    "\n",
    "https://sites.google.com/a/ismanila.org/oliverab_cp/python/pseudocode"
   ]
  },
  {
   "cell_type": "markdown",
   "id": "0e322ac7",
   "metadata": {},
   "source": [
    "###### Quiz 2: Programming Fundamentals"
   ]
  }
 ],
 "metadata": {
  "kernelspec": {
   "display_name": "Python 3",
   "language": "python",
   "name": "python3"
  },
  "language_info": {
   "codemirror_mode": {
    "name": "ipython",
    "version": 3
   },
   "file_extension": ".py",
   "mimetype": "text/x-python",
   "name": "python",
   "nbconvert_exporter": "python",
   "pygments_lexer": "ipython3",
   "version": "3.8.8"
  }
 },
 "nbformat": 4,
 "nbformat_minor": 5
}
