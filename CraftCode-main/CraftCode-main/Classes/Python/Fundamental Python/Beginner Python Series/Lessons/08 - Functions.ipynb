{
 "cells": [
  {
   "cell_type": "markdown",
   "metadata": {},
   "source": [
    "<img src=\"Figures/editedLogo.png\" width=\"500\" height=\"200\" align=\"center\"/>"
   ]
  },
  {
   "cell_type": "markdown",
   "metadata": {},
   "source": [
    "<h1 align=Center><font size = 6><b>Agenda</b></font></h1>\n",
    "\n",
    "<b> Functions  </b>\n",
    "\n",
    "1. Functions\n",
    "2. How To Create A Function\n",
    "3. Return Statement\n",
    "4. [Quiz 11: Returning Values from Functions](https://forms.gle/tbswqZ6ikEy41kvv9) \n",
    "5. Flow Control and Logic in Functions\n",
    "    - Flow Control & Conditional\n",
    "    - Flow Control & Boolean Logic\n",
    "6. Stock Market Feature\n",
    "7. Bitcoin Feature\n",
    "8. [Quiz 12: Functions](https://forms.gle/BqcWvv6NrCGqD3N48) \n"
   ]
  },
  {
   "cell_type": "markdown",
   "metadata": {},
   "source": [
    "# <b>Functions</b>"
   ]
  },
  {
   "cell_type": "markdown",
   "metadata": {},
   "source": [
    "Functions are extremley useful... They essentially are blocks of code that we can resuse multiple times. <br> \n",
    "\n",
    "Using what we've learned so far in the previous modules, we will be able to make a function. \n",
    "\n",
    "Functions utilize Flow control, loops, boolean logic, etc...\n",
    "\n",
    "Now let's get into how to create functions. "
   ]
  },
  {
   "cell_type": "markdown",
   "metadata": {},
   "source": [
    "# <b>How To Create A Function</b> \n",
    "\n",
    "    def name_of_function(name):\n",
    "    \n",
    "        \"\"\"\n",
    "            A doc string that explains the function\n",
    "        \"\"\"\n",
    "\n",
    "        print(\"Hello\" + name)\n",
    "\n",
    "\n",
    "    name_of_function(\"Omar\")\n",
    "\n",
    "### Output: \n",
    "> Hello Omar <br>"
   ]
  },
  {
   "cell_type": "markdown",
   "metadata": {},
   "source": [
    "Functions can be defined using the def keyword in Python. We call the function by typing the name of the function out of the function creation. \n",
    "\n",
    "name_of_function() was the name of the function that we called. We passed in a name for the function to use and print."
   ]
  },
  {
   "cell_type": "code",
   "execution_count": 3,
   "metadata": {},
   "outputs": [
    {
     "name": "stdout",
     "output_type": "stream",
     "text": [
      "Hello Omar Miah\n"
     ]
    }
   ],
   "source": [
    "# Create a function to print first and last name.\n",
    "\n",
    "def print_name(first,last):\n",
    "    print(\"Hello\", first,last)\n",
    "\n",
    "print_name(\"Omar\",\"Miah\")"
   ]
  },
  {
   "cell_type": "markdown",
   "metadata": {},
   "source": [
    "# Return Statements \n",
    "\n",
    "Return statements in functions are useful for when we want to capture the work that our function did. "
   ]
  },
  {
   "cell_type": "code",
   "execution_count": 4,
   "metadata": {},
   "outputs": [
    {
     "data": {
      "text/plain": [
       "5"
      ]
     },
     "execution_count": 4,
     "metadata": {},
     "output_type": "execute_result"
    }
   ],
   "source": [
    "def sum_numbers(num1,num2):\n",
    "    return num1+num2\n",
    "\n",
    "sum_numbers(2,3)"
   ]
  },
  {
   "cell_type": "markdown",
   "metadata": {},
   "source": [
    "In the example above we see that python automatically prints the value but what if we want to use that value in another function? \n",
    "\n",
    "Let's create a function to square the result of the sum_numbers() output. "
   ]
  },
  {
   "cell_type": "code",
   "execution_count": 8,
   "metadata": {},
   "outputs": [
    {
     "name": "stdout",
     "output_type": "stream",
     "text": [
      "25\n"
     ]
    }
   ],
   "source": [
    "# To do this we must create a variable to capture the result of sum_numbers()\n",
    "\n",
    "capture1 = sum_numbers(2,3)\n",
    "\n",
    "# Next we will create a function to square the resultSum number \n",
    "\n",
    "def result_squared(capture1):\n",
    "    return capture1 ** 2\n",
    "\n",
    "capture2 = result_squared(capture1)\n",
    "\n",
    "print(capture2)\n"
   ]
  },
  {
   "cell_type": "markdown",
   "metadata": {},
   "source": [
    "# Quiz 11\n",
    "- [Quiz 11: Returning Values from Functions](https://forms.gle/tbswqZ6ikEy41kvv9) \n"
   ]
  },
  {
   "cell_type": "markdown",
   "metadata": {},
   "source": [
    "# Using Flow Control and Logic in Python"
   ]
  },
  {
   "cell_type": "markdown",
   "metadata": {},
   "source": [
    "### Flow Control and Conditional"
   ]
  },
  {
   "cell_type": "code",
   "execution_count": 10,
   "metadata": {},
   "outputs": [
    {
     "name": "stdout",
     "output_type": "stream",
     "text": [
      "False\n"
     ]
    }
   ],
   "source": [
    "# check to see if a number is greater than 5 using a function \n",
    "\n",
    "number = 4\n",
    "\n",
    "def is_greater(num):\n",
    "    if num > 5:\n",
    "        print(\"True\")\n",
    "    else:\n",
    "        print(\"False\")\n",
    "\n",
    "is_greater(number)\n"
   ]
  },
  {
   "cell_type": "markdown",
   "metadata": {},
   "source": [
    "### Flow Control and Boolean Logic"
   ]
  },
  {
   "cell_type": "code",
   "execution_count": 12,
   "metadata": {},
   "outputs": [
    {
     "name": "stdout",
     "output_type": "stream",
     "text": [
      "True\n"
     ]
    }
   ],
   "source": [
    "# check to see if a number greater than 5 and is even using a function\n",
    "\n",
    "number = 6\n",
    "\n",
    "def is_greater_and_even(num):\n",
    "    if (num > 5) and (num % 2 == 0):\n",
    "        print(\"True\")\n",
    "    else:\n",
    "        print(\"False\")\n",
    "\n",
    "is_greater_and_even(number)"
   ]
  },
  {
   "cell_type": "markdown",
   "metadata": {},
   "source": [
    "# Stock Market Feature"
   ]
  },
  {
   "cell_type": "code",
   "execution_count": 13,
   "metadata": {},
   "outputs": [
    {
     "name": "stdout",
     "output_type": "stream",
     "text": [
      "('Appl', 200)\n",
      "('Goog', 400)\n",
      "('MSFT', 100)\n"
     ]
    }
   ],
   "source": [
    "# listed tuple \n",
    "\n",
    "stock_prices = [('Appl',200),('Goog',400),('MSFT',100)]\n",
    "\n",
    "for item in stock_prices:\n",
    "    print(item)"
   ]
  },
  {
   "cell_type": "code",
   "execution_count": 15,
   "metadata": {},
   "outputs": [
    {
     "name": "stdout",
     "output_type": "stream",
     "text": [
      "Appl 200\n",
      "Goog 400\n",
      "MSFT 100\n"
     ]
    }
   ],
   "source": [
    "for ticker,price in stock_prices:\n",
    "    print(ticker,price)"
   ]
  },
  {
   "cell_type": "markdown",
   "metadata": {},
   "source": [
    "# Bitcoin Feature"
   ]
  },
  {
   "cell_type": "code",
   "execution_count": 24,
   "metadata": {},
   "outputs": [
    {
     "data": {
      "text/plain": [
       "('BTC', 68515)"
      ]
     },
     "execution_count": 24,
     "metadata": {},
     "output_type": "execute_result"
    }
   ],
   "source": [
    "# Lets create an algorithm to trade BitCoins\n",
    "\n",
    "bitcoin_prices = [('ADA',2.26),('XRP',1.33),('DOGE',0.27),('SOL',245.71),('BNB', 650.59),('ETH',4850),('BTC', 68515)]\n",
    "\n",
    "def bitcoin_bot(bitcoin_list):\n",
    "\n",
    "    highest_price= 0\n",
    "    highestCoinName = ''\n",
    "\n",
    "    for coin_name,price in bitcoin_list:\n",
    "        # print(coin_name,price)\n",
    "        if price > highest_price:\n",
    "            highest_price = price\n",
    "            highestCoinName = coin_name\n",
    "        else:\n",
    "            pass\n",
    "\n",
    "    return (highestCoinName, highest_price)\n",
    "\n",
    "\n",
    "bitcoin_bot(bitcoin_prices)"
   ]
  },
  {
   "cell_type": "code",
   "execution_count": 26,
   "metadata": {},
   "outputs": [
    {
     "name": "stdout",
     "output_type": "stream",
     "text": [
      "The top coin is BTC with the value of 68515\n"
     ]
    }
   ],
   "source": [
    "# Unpacking Tuple Return Statements \n",
    "\n",
    "coin_name, coin_price = bitcoin_bot(bitcoin_prices)\n",
    "\n",
    "print(\"The top coin is\", coin_name,\"with the value of\", coin_price)"
   ]
  },
  {
   "cell_type": "markdown",
   "metadata": {},
   "source": [
    "# Quiz 12\n",
    "\n",
    "- [Quiz 12: Functions](https://forms.gle/BqcWvv6NrCGqD3N48) "
   ]
  }
 ],
 "metadata": {
  "interpreter": {
   "hash": "a6065f6affd4c30f8649d8f0a2f8549f44f9aae395c1351a92b290b79a004109"
  },
  "kernelspec": {
   "display_name": "Python 3.8.8 64-bit ('base': conda)",
   "language": "python",
   "name": "python3"
  },
  "language_info": {
   "codemirror_mode": {
    "name": "ipython",
    "version": 3
   },
   "file_extension": ".py",
   "mimetype": "text/x-python",
   "name": "python",
   "nbconvert_exporter": "python",
   "pygments_lexer": "ipython3",
   "version": "3.8.8"
  },
  "orig_nbformat": 4
 },
 "nbformat": 4,
 "nbformat_minor": 2
}
